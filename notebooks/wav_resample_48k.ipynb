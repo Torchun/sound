{
 "cells": [
  {
   "cell_type": "code",
   "execution_count": 15,
   "metadata": {},
   "outputs": [
    {
     "name": "stdout",
     "output_type": "stream",
     "text": [
      "<function point_in_polygon_bitmap at 0x7f434412a1e0>\n",
      "0.13.0\n",
      "CPU times: user 259 µs, sys: 40 µs, total: 299 µs\n",
      "Wall time: 266 µs\n"
     ]
    }
   ],
   "source": [
    "%%time\n",
    "import os\n",
    "import subprocess\n",
    "import numpy as np\n",
    "import pandas as pd\n",
    "import scipy.io.wavfile\n",
    "from sys import getsizeof\n",
    "from scipy import signal\n",
    "from IPython.display import Audio\n",
    "import csv\n",
    "import matplotlib.pyplot as plt\n",
    "import seaborn as sns\n",
    "\n",
    "# feature extraction with pyAudioAnalysis:\n",
    "from pyAudioAnalysis import ShortTermFeatures\n",
    "\n",
    "import cudf\n",
    "import cuspatial\n",
    "import cupy as cp\n",
    "import cusignal\n",
    "\n",
    "print(cuspatial.point_in_polygon_bitmap)\n",
    "print(cudf.__version__)\n",
    "\n",
    "import warnings\n",
    "warnings.filterwarnings('ignore')"
   ]
  },
  {
   "cell_type": "code",
   "execution_count": 16,
   "metadata": {},
   "outputs": [],
   "source": [
    "# Let's fix target parameters:\n",
    "target_length = 5 # seconds\n",
    "target_sr = 48000 # sampling rate, samples per second"
   ]
  },
  {
   "cell_type": "code",
   "execution_count": 17,
   "metadata": {},
   "outputs": [],
   "source": [
    "#### ------------------------------------------------------------\n",
    "####  wav -> resample\n",
    "#### ------------------------------------------------------------\n",
    "### define procedure to resample\n",
    "def resample_wav(input_file):\n",
    "    sr, wave = scipy.io.wavfile.read(input_file)\n",
    "\n",
    "    # some wav files can be corrupted, e.g. without any samples with file size \n",
    "    # ~0 bytes - 100 bytes which seems to contain only headers but no data\n",
    "    if len(wave) == 0:\n",
    "        print(f\"\\n[Bad file] {input_file}\")\n",
    "        os.remove(input_file)\n",
    "        return None\n",
    "    # Let's fix target parameters:\n",
    "    target_length = 5 # seconds\n",
    "    target_sr = 48000 # sampling rate, samples per second\n",
    "    \n",
    "    # resample on CPU/GPU\n",
    "    try:\n",
    "        wave_gpu = cp.asarray(wave)\n",
    "        resampled_wave_gpu = cusignal.resample(wave_gpu, target_sr*target_length)\n",
    "        resampled_wave = cp.asnumpy(resampled_wave_gpu).astype(int)\n",
    "        # resampled_wave_cpu = scipy.signal.resample(wave, int(target_sr*target_length))\n",
    "        # resampled_wave = resampled_wave_cpu.astype(int)\n",
    "        scaled_wave = np.int16(resampled_wave/np.max(np.abs(resampled_wave)) * 32767)\n",
    "    except:\n",
    "        scipy.io.wavfile.write(\"./tmp.wav\", sr, wave)\n",
    "        os.chown(\"./tmp.wav\", 1000, 1000)\n",
    "        print('File:', input_file)\n",
    "        print('Data:', wave)\n",
    "        print('Sampling rate:', target_sr)\n",
    "        print('Original samples:', len(wave))\n",
    "        print('Original audio length:', round(wave.size/sr, 4), 'seconds')\n",
    "        print('Lowest amplitude:', min(wave))\n",
    "        print('Highest amplitude:', max(wave))\n",
    "        print('Read retries:', read_retry)\n",
    "        Audio(\"./tmp.wav\")\n",
    "        raise SystemExit(\"Stopping further execution on error.\")\n",
    "    return scaled_wave"
   ]
  },
  {
   "cell_type": "code",
   "execution_count": 18,
   "metadata": {},
   "outputs": [
    {
     "name": "stdout",
     "output_type": "stream",
     "text": [
      "78581 files sorted, resampling\n",
      "\n",
      "[78580/78581] 100.0%: ../data/sliced/9_96_5.04_8855.wavCPU times: user 7min 9s, sys: 3min 23s, total: 10min 32s\n",
      "Wall time: 13min 42s\n"
     ]
    }
   ],
   "source": [
    "%%time \n",
    "source_dir = \"../data/sliced/\"\n",
    "source_files = []\n",
    "target_dir = \"../data/dataset/resampled/\"\n",
    "target_sr = 48000 # sampling rate, samples per second\n",
    "\n",
    "\n",
    "# sort all files\n",
    "for j in sorted(os.listdir(source_dir)):\n",
    "    source_files += [f\"{source_dir}{j}\"]\n",
    "print(f\"{len(source_files)} files sorted, resampling\")\n",
    "print()\n",
    "\n",
    "# need to handle memory management manually\n",
    "mempool = cp.get_default_memory_pool()\n",
    "pinned_mempool = cp.get_default_pinned_memory_pool()\n",
    "\n",
    "# generate featupes per each file and put to dataframe\n",
    "for idx, one_file in enumerate(source_files):\n",
    "    resampled_wav = resample_wav(one_file)\n",
    "    target_file = os.path.join(target_dir, os.path.basename(one_file))\n",
    "    scipy.io.wavfile.write(target_file, target_sr, resampled_wav)\n",
    "    os.chown(target_file, 1000, 1000)\n",
    "    if idx % 5 == 0:\n",
    "        # nice feature, printing on the same line :)\n",
    "        print(f\"\\r[{idx}/{len(source_files)}] {round(100.0 * idx/len(source_files), 2)}%: {one_file}\", end = \"\")\n",
    "        # You can clear the memory pool by calling `free_all_blocks`.\n",
    "        mempool.free_all_blocks()\n",
    "        pinned_mempool.free_all_blocks()"
   ]
  }
 ],
 "metadata": {
  "kernelspec": {
   "display_name": "Python 3",
   "language": "python",
   "name": "python3"
  },
  "language_info": {
   "codemirror_mode": {
    "name": "ipython",
    "version": 3
   },
   "file_extension": ".py",
   "mimetype": "text/x-python",
   "name": "python",
   "nbconvert_exporter": "python",
   "pygments_lexer": "ipython3",
   "version": "3.6.10"
  }
 },
 "nbformat": 4,
 "nbformat_minor": 4
}
