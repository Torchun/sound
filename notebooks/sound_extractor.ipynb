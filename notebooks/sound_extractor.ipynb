{
 "cells": [
  {
   "cell_type": "code",
   "execution_count": 1,
   "metadata": {},
   "outputs": [
    {
     "name": "stdout",
     "output_type": "stream",
     "text": [
      "CPU times: user 98.4 ms, sys: 14.1 ms, total: 113 ms\n",
      "Wall time: 162 ms\n"
     ]
    }
   ],
   "source": [
    "%%time\n",
    "import os\n",
    "import threading\n",
    "import subprocess\n",
    "import numpy as np\n",
    "from random import randrange\n",
    "import math"
   ]
  },
  {
   "cell_type": "code",
   "execution_count": null,
   "metadata": {},
   "outputs": [],
   "source": []
  },
  {
   "cell_type": "code",
   "execution_count": 2,
   "metadata": {},
   "outputs": [
    {
     "data": {
      "text/plain": [
       "['../data/source/0.mkv',\n",
       " '../data/source/1.mkv',\n",
       " '../data/source/2.mkv',\n",
       " '../data/source/3.mkv']"
      ]
     },
     "execution_count": 2,
     "metadata": {},
     "output_type": "execute_result"
    }
   ],
   "source": [
    "source_dir = \"../data/source/\"\n",
    "source_files = []\n",
    "for j in sorted(os.listdir(source_dir)):\n",
    "    source_files += [f\"{source_dir}{j}\"]\n",
    "source_files"
   ]
  },
  {
   "cell_type": "code",
   "execution_count": 3,
   "metadata": {},
   "outputs": [],
   "source": [
    "# splitting into file_time (in seconds) +- delta_seconds\n",
    "file_time = 5.0 # seconds\n",
    "delta = 0.5 # seconds\n",
    "delta_step = 0.01 # seconds\n",
    "min_sr = 8000\n",
    "max_sr = 48000\n",
    "resulting_durations = np.around(np.arange(file_time - delta, file_time + delta, delta_step), decimals = 2)\n",
    "sampling_rates = np.arange(min_sr, max_sr, 1)\n",
    "\n",
    "# duration in seconds, nned to pass file.mkv as last argument\n",
    "check_file_duration_command = \"ffprobe -v error -show_entries format=duration -of default=noprint_wrappers=1:nokey=1\"\n",
    "\n",
    "# now generate list of ffmpeg commands:\n",
    "ffmpeg_commands = []\n",
    "for file_index, file in enumerate(source_files):\n",
    "    file_duration = int(float(subprocess.getoutput(f\"{check_file_duration_command} {file}\")))\n",
    "    start_times = np.around(np.arange(0, file_duration, math.ceil(file_time + delta)), decimals = 1)\n",
    "    start_times = start_times[1:-1] # let's remove first and last elements to be safe\n",
    "    for start_index, start in enumerate(start_times):\n",
    "        selected_duration = resulting_durations[randrange(len(resulting_durations))]\n",
    "        selected_sample_rate = sampling_rates[randrange(len(sampling_rates))]\n",
    "        output_file = f\"../data/sliced/{file_index}_{int(start_index*math.ceil(file_time + delta))}_{selected_duration}_{selected_sample_rate}.wav\"\n",
    "        ffmpeg_commands += [f\"\\\n",
    "        ffmpeg -y -i {file} \\\n",
    "            -ss {start} \\\n",
    "            -t {selected_duration} \\\n",
    "            -ab 320k \\\n",
    "            -ar {selected_sample_rate} \\\n",
    "            -ac 1 \\\n",
    "            -vn {output_file} \\\n",
    "            && chown 1000:1000 {output_file} \\\n",
    "            \"]"
   ]
  },
  {
   "cell_type": "code",
   "execution_count": 4,
   "metadata": {},
   "outputs": [
    {
     "data": {
      "text/plain": [
       "'ffmpeg -y -i ../data/source/0.mkv -ss 3606 -t 5.05 -ab 320k -ar 25718 -ac 1 -vn ../data/sliced/0_3600_5.05_25718.wav && chown 1000:1000 ../data/sliced/0_3600_5.05_25718.wav'"
      ]
     },
     "execution_count": 4,
     "metadata": {},
     "output_type": "execute_result"
    }
   ],
   "source": [
    "\" \".join(ffmpeg_commands[600].split())"
   ]
  },
  {
   "cell_type": "code",
   "execution_count": 5,
   "metadata": {},
   "outputs": [
    {
     "name": "stdout",
     "output_type": "stream",
     "text": [
      "CPU times: user 6.73 ms, sys: 30.2 ms, total: 36.9 ms\n",
      "Wall time: 2min 7s\n"
     ]
    }
   ],
   "source": [
    "%%time\n",
    "### SET THREADS NUMBER \n",
    "nproc = 6\n",
    "bash_command = \"sleep 5\" # for tests\n",
    "\n",
    "semaphore = threading.Semaphore(nproc)\n",
    "def run_command(cmd):\n",
    "    with semaphore:\n",
    "        os.system(cmd)\n",
    "threads = []\n",
    "\n",
    "for task in ffmpeg_commands[]:\n",
    "    threads += [threading.Thread(target=run_command, args=(task,))]\n",
    "\n",
    "for j in threads:\n",
    "    j.start()\n",
    "for j in threads:\n",
    "    j.join()"
   ]
  },
  {
   "cell_type": "code",
   "execution_count": null,
   "metadata": {},
   "outputs": [],
   "source": []
  },
  {
   "cell_type": "code",
   "execution_count": null,
   "metadata": {},
   "outputs": [],
   "source": []
  },
  {
   "cell_type": "code",
   "execution_count": null,
   "metadata": {},
   "outputs": [],
   "source": []
  }
 ],
 "metadata": {
  "kernelspec": {
   "display_name": "Python 3",
   "language": "python",
   "name": "python3"
  },
  "language_info": {
   "codemirror_mode": {
    "name": "ipython",
    "version": 3
   },
   "file_extension": ".py",
   "mimetype": "text/x-python",
   "name": "python",
   "nbconvert_exporter": "python",
   "pygments_lexer": "ipython3",
   "version": "3.6.10"
  }
 },
 "nbformat": 4,
 "nbformat_minor": 4
}
