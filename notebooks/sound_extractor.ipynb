{
 "cells": [
  {
   "cell_type": "code",
   "execution_count": 1,
   "metadata": {},
   "outputs": [
    {
     "name": "stdout",
     "output_type": "stream",
     "text": [
      "CPU times: user 86.9 ms, sys: 4.17 ms, total: 91.1 ms\n",
      "Wall time: 107 ms\n"
     ]
    }
   ],
   "source": [
    "%%time\n",
    "import os\n",
    "import threading\n",
    "import subprocess\n",
    "import numpy as np\n",
    "from random import randrange\n",
    "import math"
   ]
  },
  {
   "cell_type": "code",
   "execution_count": null,
   "metadata": {},
   "outputs": [],
   "source": []
  },
  {
   "cell_type": "code",
   "execution_count": 2,
   "metadata": {},
   "outputs": [
    {
     "data": {
      "text/plain": [
       "['../data/source/0_0.mkv',\n",
       " '../data/source/10_2700.mkv',\n",
       " '../data/source/11_3600.mkv',\n",
       " '../data/source/12_4500.mkv',\n",
       " '../data/source/13_5400.mkv',\n",
       " '../data/source/14_0.mkv',\n",
       " '../data/source/15_900.mkv',\n",
       " '../data/source/16_1800.mkv',\n",
       " '../data/source/17_2700.mkv',\n",
       " '../data/source/18_3600.mkv',\n",
       " '../data/source/19_4500.mkv',\n",
       " '../data/source/1_900.mkv',\n",
       " '../data/source/20_5400.mkv',\n",
       " '../data/source/21_6300.mkv',\n",
       " '../data/source/22_0.mkv',\n",
       " '../data/source/23_900.mkv',\n",
       " '../data/source/24_1800.mkv',\n",
       " '../data/source/25_2700.mkv',\n",
       " '../data/source/26_3600.mkv',\n",
       " '../data/source/27_4500.mkv',\n",
       " '../data/source/28_5400.mkv',\n",
       " '../data/source/29_6300.mkv',\n",
       " '../data/source/2_1800.mkv',\n",
       " '../data/source/30_7200.mkv',\n",
       " '../data/source/31_8100.mkv',\n",
       " '../data/source/32_9000.mkv',\n",
       " '../data/source/3_2700.mkv',\n",
       " '../data/source/4_3600.mkv',\n",
       " '../data/source/5_4500.mkv',\n",
       " '../data/source/6_5400.mkv',\n",
       " '../data/source/7_0.mkv',\n",
       " '../data/source/8_900.mkv',\n",
       " '../data/source/9_1800.mkv']"
      ]
     },
     "execution_count": 2,
     "metadata": {},
     "output_type": "execute_result"
    }
   ],
   "source": [
    "source_dir = \"../data/source/\"\n",
    "source_files = []\n",
    "for j in sorted(os.listdir(source_dir)):\n",
    "    source_files += [f\"{source_dir}{j}\"]\n",
    "source_files"
   ]
  },
  {
   "cell_type": "code",
   "execution_count": 3,
   "metadata": {},
   "outputs": [],
   "source": [
    "# splitting into file_time (in seconds) +- delta_seconds\n",
    "file_time = 5.0 # seconds\n",
    "delta = 0.5 # seconds\n",
    "delta_step = 0.01 # seconds\n",
    "min_sr = 8000\n",
    "max_sr = 48000\n",
    "resulting_durations = np.around(np.arange(file_time - delta, file_time + delta, delta_step), decimals = 2)\n",
    "sampling_rates = np.arange(min_sr, max_sr, 1)\n",
    "\n",
    "# duration in seconds, nned to pass file.mkv as last argument\n",
    "check_file_duration_command = \"ffprobe -v error -show_entries format=duration -of default=noprint_wrappers=1:nokey=1\"\n",
    "\n",
    "# now generate list of ffmpeg commands:\n",
    "ffmpeg_commands = []\n",
    "for file_index, file in enumerate(source_files):\n",
    "    file_duration = int(float(subprocess.getoutput(f\"{check_file_duration_command} {file}\")))\n",
    "    start_times = np.around(np.arange(0, file_duration, math.ceil(file_time + delta)), decimals = 1)\n",
    "    start_times = start_times[1:-1] # let's remove first and last elements to be safe\n",
    "    for start_index, start in enumerate(start_times):\n",
    "        selected_duration = resulting_durations[randrange(len(resulting_durations))]\n",
    "        selected_sample_rate = sampling_rates[randrange(len(sampling_rates))]\n",
    "        output_file = f\"../data/sliced/{file_index}_{int(start_index*math.ceil(file_time + delta))}_{selected_duration}_{selected_sample_rate}.wav\"\n",
    "        ffmpeg_commands += [f\"\\\n",
    "        ffmpeg -y -i {file} \\\n",
    "            -ss {start} \\\n",
    "            -t {selected_duration} \\\n",
    "            -ab 320k \\\n",
    "            -ar {selected_sample_rate} \\\n",
    "            -ac 1 \\\n",
    "            -vn {output_file} \\\n",
    "            && chown 1000:1000 {output_file} \\\n",
    "            \"]"
   ]
  },
  {
   "cell_type": "code",
   "execution_count": 4,
   "metadata": {},
   "outputs": [
    {
     "data": {
      "text/plain": [
       "'ffmpeg -y -i ../data/source/13_5400.mkv -ss 54 -t 4.63 -ab 320k -ar 42127 -ac 1 -vn ../data/sliced/4_48_4.63_42127.wav && chown 1000:1000 ../data/sliced/4_48_4.63_42127.wav'"
      ]
     },
     "execution_count": 4,
     "metadata": {},
     "output_type": "execute_result"
    }
   ],
   "source": [
    "\" \".join(ffmpeg_commands[600].split())"
   ]
  },
  {
   "cell_type": "code",
   "execution_count": 5,
   "metadata": {},
   "outputs": [
    {
     "name": "stdout",
     "output_type": "stream",
     "text": [
      "CPU times: user 982 ms, sys: 51.9 s, total: 52.9 s\n",
      "Wall time: 52min 34s\n"
     ]
    }
   ],
   "source": [
    "%%time\n",
    "### SET THREADS NUMBER \n",
    "nproc = 6\n",
    "bash_command = \"sleep 5\" # for tests\n",
    "\n",
    "semaphore = threading.Semaphore(nproc)\n",
    "def run_command(cmd):\n",
    "    with semaphore:\n",
    "        os.system(cmd)\n",
    "threads = []\n",
    "\n",
    "for task in sorted(ffmpeg_commands):\n",
    "    threads += [threading.Thread(target=run_command, args=(task,))]\n",
    "\n",
    "for j in threads:\n",
    "    j.start()\n",
    "for j in threads:\n",
    "    j.join()"
   ]
  },
  {
   "cell_type": "code",
   "execution_count": null,
   "metadata": {},
   "outputs": [],
   "source": []
  },
  {
   "cell_type": "code",
   "execution_count": null,
   "metadata": {},
   "outputs": [],
   "source": []
  },
  {
   "cell_type": "code",
   "execution_count": null,
   "metadata": {},
   "outputs": [],
   "source": []
  }
 ],
 "metadata": {
  "kernelspec": {
   "display_name": "Python 3",
   "language": "python",
   "name": "python3"
  },
  "language_info": {
   "codemirror_mode": {
    "name": "ipython",
    "version": 3
   },
   "file_extension": ".py",
   "mimetype": "text/x-python",
   "name": "python",
   "nbconvert_exporter": "python",
   "pygments_lexer": "ipython3",
   "version": "3.6.10"
  }
 },
 "nbformat": 4,
 "nbformat_minor": 4
}
