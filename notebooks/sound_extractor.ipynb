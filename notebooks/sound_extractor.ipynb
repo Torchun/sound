{
 "cells": [
  {
   "cell_type": "code",
   "execution_count": 6,
   "metadata": {},
   "outputs": [
    {
     "name": "stdout",
     "output_type": "stream",
     "text": [
      "CPU times: user 0 ns, sys: 198 µs, total: 198 µs\n",
      "Wall time: 1.32 ms\n"
     ]
    }
   ],
   "source": [
    "%%time\n",
    "import os\n",
    "import threading\n",
    "import subprocess\n",
    "import numpy as np\n",
    "from random import randrange\n",
    "import math"
   ]
  },
  {
   "cell_type": "code",
   "execution_count": null,
   "metadata": {},
   "outputs": [],
   "source": []
  },
  {
   "cell_type": "code",
   "execution_count": 7,
   "metadata": {},
   "outputs": [
    {
     "data": {
      "text/plain": [
       "['../data/source/0_0.mkv',\n",
       " '../data/source/100_6340.mkv',\n",
       " '../data/source/101_7925.mkv',\n",
       " '../data/source/102_0.mkv',\n",
       " '../data/source/103_1594.mkv',\n",
       " '../data/source/104_3188.mkv',\n",
       " '../data/source/105_4782.mkv',\n",
       " '../data/source/106_6376.mkv',\n",
       " '../data/source/10_6000.mkv',\n",
       " '../data/source/11_0.mkv',\n",
       " '../data/source/12_669.mkv',\n",
       " '../data/source/13_1338.mkv',\n",
       " '../data/source/14_2007.mkv',\n",
       " '../data/source/15_2676.mkv',\n",
       " '../data/source/16_3345.mkv',\n",
       " '../data/source/17_4014.mkv',\n",
       " '../data/source/18_4683.mkv',\n",
       " '../data/source/19_5352.mkv',\n",
       " '../data/source/1_600.mkv',\n",
       " '../data/source/20_6021.mkv',\n",
       " '../data/source/21_6690.mkv',\n",
       " '../data/source/22_0.mkv',\n",
       " '../data/source/23_748.mkv',\n",
       " '../data/source/24_1496.mkv',\n",
       " '../data/source/25_2244.mkv',\n",
       " '../data/source/26_2992.mkv',\n",
       " '../data/source/27_3740.mkv',\n",
       " '../data/source/28_4488.mkv',\n",
       " '../data/source/29_5236.mkv',\n",
       " '../data/source/2_1200.mkv',\n",
       " '../data/source/30_5984.mkv',\n",
       " '../data/source/31_6732.mkv',\n",
       " '../data/source/32_7480.mkv',\n",
       " '../data/source/33_0.mkv',\n",
       " '../data/source/34_819.mkv',\n",
       " '../data/source/35_1638.mkv',\n",
       " '../data/source/36_2457.mkv',\n",
       " '../data/source/37_3276.mkv',\n",
       " '../data/source/38_4095.mkv',\n",
       " '../data/source/39_4914.mkv',\n",
       " '../data/source/3_1800.mkv',\n",
       " '../data/source/40_5733.mkv',\n",
       " '../data/source/41_6552.mkv',\n",
       " '../data/source/42_7371.mkv',\n",
       " '../data/source/43_0.mkv',\n",
       " '../data/source/44_913.mkv',\n",
       " '../data/source/45_1826.mkv',\n",
       " '../data/source/46_2739.mkv',\n",
       " '../data/source/47_3652.mkv',\n",
       " '../data/source/48_4565.mkv',\n",
       " '../data/source/49_5478.mkv',\n",
       " '../data/source/4_2400.mkv',\n",
       " '../data/source/50_6391.mkv',\n",
       " '../data/source/51_7304.mkv',\n",
       " '../data/source/52_8217.mkv',\n",
       " '../data/source/53_0.mkv',\n",
       " '../data/source/54_1007.mkv',\n",
       " '../data/source/55_2014.mkv',\n",
       " '../data/source/56_3021.mkv',\n",
       " '../data/source/57_4028.mkv',\n",
       " '../data/source/58_5035.mkv',\n",
       " '../data/source/59_6042.mkv',\n",
       " '../data/source/5_3000.mkv',\n",
       " '../data/source/60_0.mkv',\n",
       " '../data/source/61_1082.mkv',\n",
       " '../data/source/62_2164.mkv',\n",
       " '../data/source/63_3246.mkv',\n",
       " '../data/source/64_4328.mkv',\n",
       " '../data/source/65_5410.mkv',\n",
       " '../data/source/66_0.mkv',\n",
       " '../data/source/67_1151.mkv',\n",
       " '../data/source/68_2302.mkv',\n",
       " '../data/source/69_3453.mkv',\n",
       " '../data/source/6_3600.mkv',\n",
       " '../data/source/70_4604.mkv',\n",
       " '../data/source/71_5755.mkv',\n",
       " '../data/source/72_6906.mkv',\n",
       " '../data/source/73_8057.mkv',\n",
       " '../data/source/74_9208.mkv',\n",
       " '../data/source/75_0.mkv',\n",
       " '../data/source/76_1238.mkv',\n",
       " '../data/source/77_2476.mkv',\n",
       " '../data/source/78_3714.mkv',\n",
       " '../data/source/79_4952.mkv',\n",
       " '../data/source/7_4200.mkv',\n",
       " '../data/source/80_6190.mkv',\n",
       " '../data/source/81_0.mkv',\n",
       " '../data/source/82_1323.mkv',\n",
       " '../data/source/83_2646.mkv',\n",
       " '../data/source/84_3969.mkv',\n",
       " '../data/source/85_5292.mkv',\n",
       " '../data/source/86_0.mkv',\n",
       " '../data/source/87_1404.mkv',\n",
       " '../data/source/88_2808.mkv',\n",
       " '../data/source/89_4212.mkv',\n",
       " '../data/source/8_4800.mkv',\n",
       " '../data/source/90_5616.mkv',\n",
       " '../data/source/91_0.mkv',\n",
       " '../data/source/92_1476.mkv',\n",
       " '../data/source/93_2952.mkv',\n",
       " '../data/source/94_4428.mkv',\n",
       " '../data/source/95_5904.mkv',\n",
       " '../data/source/96_0.mkv',\n",
       " '../data/source/97_1585.mkv',\n",
       " '../data/source/98_3170.mkv',\n",
       " '../data/source/99_4755.mkv',\n",
       " '../data/source/9_5400.mkv']"
      ]
     },
     "execution_count": 7,
     "metadata": {},
     "output_type": "execute_result"
    }
   ],
   "source": [
    "source_dir = \"../data/source/\"\n",
    "source_files = []\n",
    "for j in sorted(os.listdir(source_dir)):\n",
    "    source_files += [f\"{source_dir}{j}\"]\n",
    "source_files"
   ]
  },
  {
   "cell_type": "code",
   "execution_count": 3,
   "metadata": {},
   "outputs": [],
   "source": [
    "# splitting into file_time (in seconds) +- delta_seconds\n",
    "file_time = 5.0 # seconds\n",
    "delta = 0.5 # seconds\n",
    "delta_step = 0.01 # seconds\n",
    "min_sr = 8000\n",
    "max_sr = 48000\n",
    "resulting_durations = np.around(np.arange(file_time - delta, file_time + delta, delta_step), decimals = 2)\n",
    "sampling_rates = np.arange(min_sr, max_sr, 1)\n",
    "\n",
    "# duration in seconds, nned to pass file.mkv as last argument\n",
    "check_file_duration_command = \"ffprobe -v error -show_entries format=duration -of default=noprint_wrappers=1:nokey=1\"\n",
    "\n",
    "# now generate list of ffmpeg commands:\n",
    "ffmpeg_commands = []\n",
    "for file_index, file in enumerate(source_files):\n",
    "    file_duration = int(float(subprocess.getoutput(f\"{check_file_duration_command} {file}\")))\n",
    "    start_times = np.around(np.arange(0, file_duration, math.ceil(file_time + delta)), decimals = 1)\n",
    "    start_times = start_times[1:-1] # let's remove first and last elements to be safe\n",
    "    for start_index, start in enumerate(start_times):\n",
    "        selected_duration = resulting_durations[randrange(len(resulting_durations))]\n",
    "        selected_sample_rate = sampling_rates[randrange(len(sampling_rates))]\n",
    "        output_file = f\"../data/sliced/{file_index}_{int(start_index*math.ceil(file_time + delta))}_{selected_duration}_{selected_sample_rate}.wav\"\n",
    "        ffmpeg_commands += [f\"\\\n",
    "        ffmpeg -y -i {file} \\\n",
    "            -ss {start} \\\n",
    "            -t {selected_duration} \\\n",
    "            -ab 320k \\\n",
    "            -ar {selected_sample_rate} \\\n",
    "            -ac 1 \\\n",
    "            -vn {output_file} \\\n",
    "            && chown 1000:1000 {output_file} \\\n",
    "            \"]"
   ]
  },
  {
   "cell_type": "code",
   "execution_count": 4,
   "metadata": {},
   "outputs": [
    {
     "data": {
      "text/plain": [
       "'ffmpeg -y -i ../data/source/13_5400.mkv -ss 54 -t 4.63 -ab 320k -ar 42127 -ac 1 -vn ../data/sliced/4_48_4.63_42127.wav && chown 1000:1000 ../data/sliced/4_48_4.63_42127.wav'"
      ]
     },
     "execution_count": 4,
     "metadata": {},
     "output_type": "execute_result"
    }
   ],
   "source": [
    "\" \".join(ffmpeg_commands[600].split())"
   ]
  },
  {
   "cell_type": "code",
   "execution_count": 5,
   "metadata": {},
   "outputs": [
    {
     "name": "stdout",
     "output_type": "stream",
     "text": [
      "CPU times: user 982 ms, sys: 51.9 s, total: 52.9 s\n",
      "Wall time: 52min 34s\n"
     ]
    }
   ],
   "source": [
    "%%time\n",
    "### SET THREADS NUMBER \n",
    "nproc = 6\n",
    "bash_command = \"sleep 5\" # for tests\n",
    "\n",
    "semaphore = threading.Semaphore(nproc)\n",
    "def run_command(cmd):\n",
    "    with semaphore:\n",
    "        os.system(cmd)\n",
    "threads = []\n",
    "\n",
    "for task in sorted(ffmpeg_commands):\n",
    "    threads += [threading.Thread(target=run_command, args=(task,))]\n",
    "\n",
    "for j in threads:\n",
    "    j.start()\n",
    "for j in threads:\n",
    "    j.join()"
   ]
  },
  {
   "cell_type": "code",
   "execution_count": null,
   "metadata": {},
   "outputs": [],
   "source": []
  },
  {
   "cell_type": "code",
   "execution_count": null,
   "metadata": {},
   "outputs": [],
   "source": []
  },
  {
   "cell_type": "code",
   "execution_count": null,
   "metadata": {},
   "outputs": [],
   "source": []
  }
 ],
 "metadata": {
  "kernelspec": {
   "display_name": "Python 3",
   "language": "python",
   "name": "python3"
  },
  "language_info": {
   "codemirror_mode": {
    "name": "ipython",
    "version": 3
   },
   "file_extension": ".py",
   "mimetype": "text/x-python",
   "name": "python",
   "nbconvert_exporter": "python",
   "pygments_lexer": "ipython3",
   "version": "3.6.10"
  }
 },
 "nbformat": 4,
 "nbformat_minor": 4
}
