{
 "cells": [
  {
   "cell_type": "code",
   "execution_count": 43,
   "metadata": {},
   "outputs": [
    {
     "name": "stdout",
     "output_type": "stream",
     "text": [
      "CPU times: user 0 ns, sys: 17 µs, total: 17 µs\n",
      "Wall time: 21.9 µs\n"
     ]
    }
   ],
   "source": [
    "%%time\n",
    "import os\n",
    "import threading\n",
    "import subprocess\n",
    "import numpy as np\n",
    "from random import randrange\n",
    "import math"
   ]
  },
  {
   "cell_type": "code",
   "execution_count": 44,
   "metadata": {},
   "outputs": [
    {
     "data": {
      "text/plain": [
       "'../data/source/922_5400.mkv'"
      ]
     },
     "execution_count": 44,
     "metadata": {},
     "output_type": "execute_result"
    }
   ],
   "source": [
    "source_dir = \"../data/source/\"\n",
    "source_files = []\n",
    "for j in sorted(os.listdir(source_dir)):\n",
    "    source_files += [f\"{source_dir}{j}\"]\n",
    "source_files[-1]"
   ]
  },
  {
   "cell_type": "code",
   "execution_count": 45,
   "metadata": {},
   "outputs": [],
   "source": [
    "# splitting into file_time (in seconds) +- delta_seconds\n",
    "file_time = 5.0 # seconds\n",
    "delta = 0.5 # seconds\n",
    "delta_step = 0.01 # seconds\n",
    "min_sr = 8000\n",
    "max_sr = 48000\n",
    "resulting_durations = np.around(np.arange(file_time - delta, file_time + delta, delta_step), decimals = 2)\n",
    "sampling_rates = np.arange(min_sr, max_sr, 1)\n",
    "\n",
    "# duration in seconds, nned to pass file.mkv as last argument\n",
    "check_file_duration_command = \"ffprobe -v error -show_entries format=duration -of default=noprint_wrappers=1:nokey=1\"\n",
    "\n",
    "# now generate list of ffmpeg commands:\n",
    "start_delta = 606\n",
    "ffmpeg_commands = []\n",
    "for file_index, file in enumerate(source_files):\n",
    "    file_duration = int(float(subprocess.getoutput(f\"{check_file_duration_command} {file}\")))\n",
    "    start_times = np.around(np.arange(0, file_duration, math.ceil(file_time + delta)), decimals = 1)\n",
    "    start_times = start_times[1:-1] # let's remove first and last elements to be safe\n",
    "    for start_index, start in enumerate(start_times):\n",
    "        selected_duration = resulting_durations[randrange(len(resulting_durations))]\n",
    "        selected_sample_rate = sampling_rates[randrange(len(sampling_rates))]\n",
    "        output_file = f\"../data/sliced/{file_index + start_delta}_{int(start_index*math.ceil(file_time + delta))}_{selected_duration}_{selected_sample_rate}.wav\"\n",
    "        ffmpeg_commands += [f\"\\\n",
    "        ffmpeg -y -i {file} \\\n",
    "            -ss {start} \\\n",
    "            -t {selected_duration} \\\n",
    "            -ab 320k \\\n",
    "            -ar {selected_sample_rate} \\\n",
    "            -ac 1 \\\n",
    "            -vn {output_file} \\\n",
    "            && chown 1000:1000 {output_file} \\\n",
    "            \"]"
   ]
  },
  {
   "cell_type": "code",
   "execution_count": 46,
   "metadata": {},
   "outputs": [
    {
     "data": {
      "text/plain": [
       "'ffmpeg -y -i ../data/source/606_0.mkv -ss 6 -t 5.26 -ab 320k -ar 37277 -ac 1 -vn ../data/sliced/606_0_5.26_37277.wav && chown 1000:1000 ../data/sliced/606_0_5.26_37277.wav'"
      ]
     },
     "execution_count": 46,
     "metadata": {},
     "output_type": "execute_result"
    }
   ],
   "source": [
    "\" \".join(ffmpeg_commands[0].split())"
   ]
  },
  {
   "cell_type": "code",
   "execution_count": 47,
   "metadata": {},
   "outputs": [
    {
     "data": {
      "text/plain": [
       "29595"
      ]
     },
     "execution_count": 47,
     "metadata": {},
     "output_type": "execute_result"
    }
   ],
   "source": [
    "len(ffmpeg_commands)"
   ]
  },
  {
   "cell_type": "code",
   "execution_count": 48,
   "metadata": {},
   "outputs": [
    {
     "name": "stdout",
     "output_type": "stream",
     "text": [
      "CPU times: user 8.01 s, sys: 31min 59s, total: 32min 7s\n",
      "Wall time: 1h 39min 36s\n"
     ]
    }
   ],
   "source": [
    "%%time\n",
    "### SET THREADS NUMBER \n",
    "nproc = 6\n",
    "bash_command = \"sleep 5\" # for tests\n",
    "\n",
    "semaphore = threading.Semaphore(nproc)\n",
    "def run_command(cmd):\n",
    "    with semaphore:\n",
    "        os.system(cmd)\n",
    "threads = []\n",
    "\n",
    "for task in sorted(ffmpeg_commands):\n",
    "    threads += [threading.Thread(target=run_command, args=(task,))]\n",
    "\n",
    "for j in threads:\n",
    "    j.start()\n",
    "for j in threads:\n",
    "    j.join()"
   ]
  },
  {
   "cell_type": "code",
   "execution_count": null,
   "metadata": {},
   "outputs": [],
   "source": []
  },
  {
   "cell_type": "code",
   "execution_count": null,
   "metadata": {},
   "outputs": [],
   "source": []
  },
  {
   "cell_type": "code",
   "execution_count": null,
   "metadata": {},
   "outputs": [],
   "source": []
  }
 ],
 "metadata": {
  "kernelspec": {
   "display_name": "Python 3",
   "language": "python",
   "name": "python3"
  },
  "language_info": {
   "codemirror_mode": {
    "name": "ipython",
    "version": 3
   },
   "file_extension": ".py",
   "mimetype": "text/x-python",
   "name": "python",
   "nbconvert_exporter": "python",
   "pygments_lexer": "ipython3",
   "version": "3.6.10"
  }
 },
 "nbformat": 4,
 "nbformat_minor": 4
}
