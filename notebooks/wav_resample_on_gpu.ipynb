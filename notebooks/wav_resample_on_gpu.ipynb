{
 "cells": [
  {
   "cell_type": "code",
   "execution_count": 9,
   "metadata": {},
   "outputs": [
    {
     "name": "stdout",
     "output_type": "stream",
     "text": [
      "<function point_in_polygon_bitmap at 0x7f8a41f3d378>\n",
      "0.13.0\n",
      "CPU times: user 349 µs, sys: 31 µs, total: 380 µs\n",
      "Wall time: 326 µs\n"
     ]
    }
   ],
   "source": [
    "%%time\n",
    "import os\n",
    "import json\n",
    "import datetime\n",
    "from sys import getsizeof\n",
    "import numpy as np\n",
    "from scipy import signal\n",
    "from IPython.display import Audio\n",
    "\n",
    "import cudf\n",
    "import cuspatial\n",
    "import cupy as cp\n",
    "import cusignal\n",
    "\n",
    "print(cuspatial.point_in_polygon_bitmap)\n",
    "print(cudf.__version__)"
   ]
  },
  {
   "cell_type": "code",
   "execution_count": null,
   "metadata": {},
   "outputs": [],
   "source": []
  },
  {
   "cell_type": "code",
   "execution_count": 2,
   "metadata": {},
   "outputs": [],
   "source": [
    "def gpu_gen_signal(fs, freq, N):\n",
    "    T = 1/fs\n",
    "    sig = 0\n",
    "    x = cp.linspace(0.0, N*(1.0/fs), N)\n",
    "    for f in freq:\n",
    "        sig += cp.cos(f*2*cp.pi*x)\n",
    "    return sig"
   ]
  },
  {
   "cell_type": "code",
   "execution_count": 3,
   "metadata": {},
   "outputs": [],
   "source": [
    "# Storing num carriers for deep learning prediction -- We're even HURTING ourself here with benchmarks!\n",
    "def gpu_gen_ensemble(fs, N, num_sig):\n",
    "    sig_ensemble = cp.zeros((int(num_sig), int(N)))\n",
    "    num_carriers = cp.zeros(int(num_sig))\n",
    "    for i in range(int(num_sig)):\n",
    "        # random number of carriers in random locations for each signal\n",
    "        num_carrier = int(cp.random.randint(1,5))\n",
    "        freq = 1e6 * cp.random.randint(1, 10, num_carrier)\n",
    "        sig_ensemble[i,:] = gpu_gen_signal(fs, freq, N)\n",
    "        num_carriers[i] = num_carrier\n",
    "    return sig_ensemble, num_carriers"
   ]
  },
  {
   "cell_type": "code",
   "execution_count": 4,
   "metadata": {},
   "outputs": [],
   "source": [
    "# 10MHz\n",
    "fs = 10e6\n",
    "\n",
    "# Overwrite\n",
    "num_sig = 2000\n",
    "N = 2**15\n",
    "\n",
    "# Change sample rate so N=2^16\n",
    "up = 2\n",
    "down = 2"
   ]
  },
  {
   "cell_type": "code",
   "execution_count": 5,
   "metadata": {},
   "outputs": [
    {
     "name": "stdout",
     "output_type": "stream",
     "text": [
      "CPU times: user 5 s, sys: 6.5 ms, total: 5.01 s\n",
      "Wall time: 5.01 s\n"
     ]
    }
   ],
   "source": [
    "%%time\n",
    "[gpu_ensemble, num_carriers] = gpu_gen_ensemble(fs, N, num_sig)"
   ]
  },
  {
   "cell_type": "code",
   "execution_count": 6,
   "metadata": {},
   "outputs": [
    {
     "name": "stdout",
     "output_type": "stream",
     "text": [
      "CPU times: user 2.98 ms, sys: 71 µs, total: 3.05 ms\n",
      "Wall time: 2.56 ms\n"
     ]
    }
   ],
   "source": [
    "%%time\n",
    "resample_gpu_ensemble = cusignal.resample_poly(gpu_ensemble, up, down, axis=1, window='flattop')"
   ]
  },
  {
   "cell_type": "code",
   "execution_count": 7,
   "metadata": {},
   "outputs": [
    {
     "data": {
      "text/plain": [
       "array(1.99999999)"
      ]
     },
     "execution_count": 7,
     "metadata": {},
     "output_type": "execute_result"
    }
   ],
   "source": [
    "resample_gpu_ensemble[2][5]"
   ]
  },
  {
   "cell_type": "code",
   "execution_count": null,
   "metadata": {},
   "outputs": [],
   "source": []
  }
 ],
 "metadata": {
  "kernelspec": {
   "display_name": "Python 3",
   "language": "python",
   "name": "python3"
  },
  "language_info": {
   "codemirror_mode": {
    "name": "ipython",
    "version": 3
   },
   "file_extension": ".py",
   "mimetype": "text/x-python",
   "name": "python",
   "nbconvert_exporter": "python",
   "pygments_lexer": "ipython3",
   "version": "3.6.10"
  }
 },
 "nbformat": 4,
 "nbformat_minor": 4
}
